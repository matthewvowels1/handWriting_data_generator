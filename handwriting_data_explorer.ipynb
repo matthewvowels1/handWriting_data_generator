{
 "cells": [
  {
   "cell_type": "code",
   "execution_count": 10,
   "metadata": {},
   "outputs": [],
   "source": [
    "import numpy as np\n",
    "import pandas as pd\n",
    "import os\n",
    "import matplotlib.pyplot as plt\n",
    "from matplotlib import interactive\n",
    "import cv2\n",
    "import svgwrite\n",
    "from scipy import interpolate\n",
    "from sklearn.preprocessing import LabelEncoder\n",
    "from cairosvg import svg2png\n",
    "import pickle"
   ]
  },
  {
   "cell_type": "code",
   "execution_count": 11,
   "metadata": {},
   "outputs": [],
   "source": [
    "resampling = 1\n",
    "timesteps = 30 # (if resampling = 1)\n",
    "\n",
    "# download the training and validation data from https://github.com/emreaksan/deepwriting\n",
    "folder = '/media/matthewvowels/Storage/data/HandWriting/'\n",
    "data_dict = dict(np.load(folder+'deepwriting_validation.npz', allow_pickle = True))\n",
    "\n",
    "## out filename:\n",
    "if resampling:\n",
    "    filename = '/media/matthewvowels/Storage/data/HandWriting/char_sequences_INTERPOLATED_{}_validation.pickle'.format(timesteps)\n",
    "else:\n",
    "    filename = '/media/matthewvowels/Storage/data/HandWriting/char_sequences_validation.pickle'\n",
    "\n"
   ]
  },
  {
   "cell_type": "code",
   "execution_count": 12,
   "metadata": {},
   "outputs": [],
   "source": [
    "def undo_normalization(sample, detrend_sample=False):\n",
    "    # modified from https://github.com/emreaksan/deepwriting/blob/master/dataset_hw.py\n",
    "    sample_copy = np.copy(sample[:,:3])\n",
    "    if normalization:\n",
    "        sample_copy = sample_copy*norm_std+norm_mean\n",
    "    sample_copy[:,2] = sample[:,2]\n",
    "    return sample_copy\n",
    "\n",
    "def stroke_to_png_sequence(stroke, img_size, resampling, timesteps):\n",
    "    # modified from https://github.com/emreaksan/deepwriting/blob/master/dataset_hw.py\n",
    "    x = 0\n",
    "    y = 0\n",
    "    abs_ = []\n",
    "    for i in range(0, len(stroke)):\n",
    "        x += stroke[i,0]\n",
    "        y += stroke[i,1]\n",
    "        abs_.append([x,y])\n",
    "\n",
    "    abs_ = np.asarray(abs_)\n",
    "\n",
    "    if resampling:\n",
    "        x = np.linspace(0, timesteps, abs_.shape[0])\n",
    "        \n",
    "        abs_x = abs_[:,0]\n",
    "        f_x = interpolate.interp1d(x, abs_x)\n",
    "        abs_y = abs_[:,1]\n",
    "        f_y = interpolate.interp1d(x, abs_y)\n",
    "\n",
    "        x_new = np.linspace(0, timesteps, timesteps-1)\n",
    "        abs_x_new = np.expand_dims(f_x(x_new), 1)   \n",
    "        abs_y_new = np.expand_dims(f_y(x_new), 1)\n",
    "        abs_ = np.concatenate((abs_x_new, abs_y_new), 1)\n",
    "\n",
    "    \n",
    "    seq_len = len(abs_)\n",
    "    img_sequence = np.zeros((seq_len, image_size, image_size)).astype('uint8')\n",
    "    img_sequence[:,:,:] = 255\n",
    "    \n",
    "    r_x = abs_[:,0].max() - abs_[:,0].min()\n",
    "    r_y = abs_[:,1].max() - abs_[:,1].min()\n",
    "\n",
    "    if r_x >= r_y:\n",
    "        abs_ = (abs_ - abs_[:,0].min(axis=0)) / r_x\n",
    "        abs_ = abs_ * (0.9 - 0.1) + 0.1\n",
    "        abs_[:,1] += abs(abs_[:,1].min())\n",
    "        \n",
    "        abs_ *= (image_size - 4)\n",
    "        abs_[:,1] = abs_[:,1] - abs_[:,1].mean() + (image_size-1)/2\n",
    "    else:\n",
    "        abs_ = (abs_ - abs_[:,1].min(axis=0)) / r_y\n",
    "        abs_ = abs_ * (0.9 - 0.1) + 0.1\n",
    "        abs_[:,0] += abs(abs_[:,0].min())\n",
    "\n",
    "        abs_ *= (image_size - 4)\n",
    "        abs_[:,0] = abs_[:,0] - abs_[:,0].mean() + (image_size-1)/2\n",
    "        \n",
    "\n",
    "    abs_ = abs_.astype('int')\n",
    "\n",
    "    for j in range(0, len(abs_)):\n",
    "        cum_pen = abs_[:j+1]\n",
    "\n",
    "        for idx in range(0,cum_pen.shape[0]):\n",
    "\n",
    "            if (idx == 0):\n",
    "                start_p = (abs_[0,0], abs_[0,1])\n",
    "                end_p = (abs_[1,0], abs_[1,1] )\n",
    "                cv2.line(img_sequence[j], start_p, end_p, 0, 2, 8)\n",
    "            else:\n",
    "                end_p = (cum_pen[idx,0], cum_pen[idx,1] )\n",
    "                cv2.line(img_sequence[j], start_p, end_p, 0, 2, 8)\n",
    "                start_p = end_p\n",
    "        \n",
    "    img_sequence = 255 - img_sequence\n",
    "\n",
    "    return img_sequence\n"
   ]
  },
  {
   "cell_type": "code",
   "execution_count": 13,
   "metadata": {},
   "outputs": [
    {
     "name": "stdout",
     "output_type": "stream",
     "text": [
      "min\n",
      "max\n",
      "word_labels\n",
      "eoc_labels\n",
      "char_labels\n",
      "subject_labels\n",
      "sow_labels\n",
      "strokes\n",
      "mean\n",
      "preprocessing\n",
      "soc_labels\n",
      "std\n",
      "alphabet\n",
      "texts\n",
      "eow_labels\n",
      "['' '0' '1' '2' '3' '4' '5' '6' '7' '8' '9' 'a' 'b' 'c' 'd' 'e' 'f' 'g'\n",
      " 'h' 'i' 'j' 'k' 'l' 'm' 'n' 'o' 'p' 'q' 'r' 's' 't' 'u' 'v' 'w' 'x' 'y'\n",
      " 'z' 'A' 'B' 'C' 'D' 'E' 'F' 'G' 'H' 'I' 'J' 'K' 'L' 'M' 'N' 'O' 'P' 'Q'\n",
      " 'R' 'S' 'T' 'U' 'V' 'W' 'X' 'Y' 'Z' \"'\" '.' ',' '-' '(' ')' '/']\n",
      "(705,)\n",
      "True\n"
     ]
    },
    {
     "data": {
      "text/plain": [
       "array(['', \"'\", '(', ')', ',', '-'], dtype='<U1')"
      ]
     },
     "execution_count": 13,
     "metadata": {},
     "output_type": "execute_result"
    }
   ],
   "source": [
    "for key in data_dict.keys():\n",
    "    print(key)\n",
    "print(data_dict['alphabet'])\n",
    "\n",
    "samples = data_dict['samples'] if 'samples' in data_dict.keys() else data_dict['strokes']\n",
    "print(samples.shape)\n",
    "char_labels = data_dict['char_labels']\n",
    "alphabet = data_dict['alphabet']\n",
    "eoc_labels = data_dict['eoc_labels']\n",
    "normalization = 'normalization' in data_dict['preprocessing']\n",
    "print(normalization)\n",
    "norm_mean = data_dict['mean']\n",
    "norm_std = data_dict['std']\n",
    "text = data_dict['texts']\n",
    "char_encoder = LabelEncoder()\n",
    "char_encoder.fit(alphabet)\n",
    "char_encoder.inverse_transform([0,1,2,3,4,5])"
   ]
  },
  {
   "cell_type": "code",
   "execution_count": 14,
   "metadata": {},
   "outputs": [
    {
     "name": "stdout",
     "output_type": "stream",
     "text": [
      "1739\n",
      "1739\n"
     ]
    }
   ],
   "source": [
    "unnormed_samples = []\n",
    "\n",
    "### Pull out sequences which are completed with ONE stroke ###\n",
    "\n",
    "for sample in samples:\n",
    "    unnormed_sample = undo_normalization(sample)\n",
    "    unnormed_samples.append(unnormed_sample)\n",
    "    \n",
    "unnormed_samples = np.asarray(unnormed_samples)\n",
    "\n",
    "sentence_n = 0\n",
    "single_strokes = []\n",
    "single_stroke_labels = []\n",
    "\n",
    "for sentence in eoc_labels:\n",
    "    seg_array = np.insert(np.argwhere(sentence == 1),[0],[0],axis=0)\n",
    "    \n",
    "    for i in range(len(seg_array)):\n",
    "        if (i+1) < len(seg_array):\n",
    "            character = unnormed_samples[sentence_n][int(seg_array[i]):int(seg_array[i+1])] \n",
    "            char_lab = char_labels[sentence_n][int(seg_array[i]+1):int(seg_array[i+1])] \n",
    "            if 1 not in character:\n",
    "                if len(char_lab) > 0:\n",
    "                    single_strokes.append(character)\n",
    "                    single_stroke_labels.append(char_lab[0])\n",
    "    sentence_n += 1\n",
    "single_stroke_labels = np.asarray(single_stroke_labels)\n",
    "print(len(single_stroke_labels))\n",
    "print(len(single_strokes))"
   ]
  },
  {
   "cell_type": "code",
   "execution_count": 15,
   "metadata": {},
   "outputs": [],
   "source": [
    "# individually normalize each stroke\n",
    "eps = 10e-8\n",
    "for i in range(len(single_strokes)):\n",
    "    p = single_strokes[i][:,0].max()\n",
    "    q = single_strokes[i][:,1].max()\n",
    "    \n",
    "    if p > q:\n",
    "            \n",
    "        single_strokes[i][:,0] = single_strokes[i][:,0]  / (eps+p)               \n",
    "        single_strokes[i][:,1] = single_strokes[i][:,1] / (eps+p) \n",
    "    elif q > p:\n",
    "                                  \n",
    "        single_strokes[i][:,0] = single_strokes[i][:,0]  / (eps+q)               \n",
    "        single_strokes[i][:,1] = single_strokes[i][:,1] / (eps+q) "
   ]
  },
  {
   "cell_type": "code",
   "execution_count": 16,
   "metadata": {},
   "outputs": [],
   "source": [
    "# remove the punctuation strokes \n",
    "inds = np.argsort(single_stroke_labels)\n",
    "single_stroke_labels = single_stroke_labels[inds]\n",
    "single_strokes = np.asarray(single_strokes)[inds]\n",
    "single_stroke_labels = single_stroke_labels[12:]\n",
    "single_strokes = single_strokes[12:]"
   ]
  },
  {
   "cell_type": "code",
   "execution_count": 17,
   "metadata": {},
   "outputs": [
    {
     "name": "stdout",
     "output_type": "stream",
     "text": [
      "G_0\n",
      "m_1000\n",
      "saving into  /media/matthewvowels/Storage/data/HandWriting/char_sequences_INTERPOLATED_30_validation.pickle\n"
     ]
    }
   ],
   "source": [
    "\n",
    "image_size = 64\n",
    "dict_ = {}\n",
    "char_seqs = []\n",
    "for i in range(len(single_stroke_labels)):\n",
    "    label = str(char_encoder.inverse_transform([single_stroke_labels[i]])[0]) \n",
    "    \n",
    "    if (i + 1) < len(single_stroke_labels):\n",
    "        label_plus_one = str(char_encoder.inverse_transform([single_stroke_labels[i+1]])[0])\n",
    "    else:\n",
    "        label_plus_one = label\n",
    "        \n",
    "    if label == label_plus_one:\n",
    "        stroke = single_strokes[i]  \n",
    "        seq = stroke_to_png_sequence(stroke, image_size, resampling, timesteps) \n",
    "        char_seqs.append(seq)\n",
    "    else:\n",
    "        stroke = single_strokes[i]  \n",
    "        seq = stroke_to_png_sequence(stroke, image_size,resampling, timesteps) \n",
    "        char_seqs.append(seq)\n",
    "        dict_[label] = char_seqs\n",
    "        char_seqs = []\n",
    "    \n",
    "\n",
    "    if i %1000 == 0:\n",
    "        print(label+'_' + str(i))\n",
    "\n",
    "print('saving into ', filename)\n",
    "with open(filename, 'wb') as handle:\n",
    "    pickle.dump(dict_, handle, protocol=pickle.HIGHEST_PROTOCOL)\n",
    "\n",
    "with open(filename, 'rb') as handle:\n",
    "    b = pickle.load(handle)"
   ]
  },
  {
   "cell_type": "code",
   "execution_count": null,
   "metadata": {},
   "outputs": [],
   "source": []
  }
 ],
 "metadata": {
  "kernelspec": {
   "display_name": "Python 3",
   "language": "python",
   "name": "python3"
  },
  "language_info": {
   "codemirror_mode": {
    "name": "ipython",
    "version": 3
   },
   "file_extension": ".py",
   "mimetype": "text/x-python",
   "name": "python",
   "nbconvert_exporter": "python",
   "pygments_lexer": "ipython3",
   "version": "3.5.2"
  }
 },
 "nbformat": 4,
 "nbformat_minor": 4
}
